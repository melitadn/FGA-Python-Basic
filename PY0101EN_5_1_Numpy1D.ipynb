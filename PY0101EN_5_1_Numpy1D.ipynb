{
  "nbformat": 4,
  "nbformat_minor": 0,
  "metadata": {
    "colab": {
      "name": "PY0101EN-5-1-Numpy1D.ipynb",
      "version": "0.3.2",
      "provenance": [],
      "toc_visible": true,
      "include_colab_link": true
    },
    "language_info": {
      "codemirror_mode": {
        "name": "ipython",
        "version": 3
      },
      "file_extension": ".py",
      "mimetype": "text/x-python",
      "name": "python",
      "nbconvert_exporter": "python",
      "pygments_lexer": "ipython3",
      "version": "3.6.6"
    },
    "kernelspec": {
      "display_name": "Python 3",
      "language": "python",
      "name": "python3"
    }
  },
  "cells": [
    {
      "cell_type": "markdown",
      "metadata": {
        "id": "view-in-github",
        "colab_type": "text"
      },
      "source": [
        "<a href=\"https://colab.research.google.com/github/melitadn/FGA-Python-Basic/blob/master/PY0101EN_5_1_Numpy1D.ipynb\" target=\"_parent\"><img src=\"https://colab.research.google.com/assets/colab-badge.svg\" alt=\"Open In Colab\"/></a>"
      ]
    },
    {
      "cell_type": "markdown",
      "metadata": {
        "id": "aeH5r8KKdOAa",
        "colab_type": "text"
      },
      "source": [
        "<img src = \"https://i.imgur.com/AKXoLze.jpg\" align = \"center\">"
      ]
    },
    {
      "cell_type": "markdown",
      "metadata": {
        "id": "9-a93iGZdOAb",
        "colab_type": "text"
      },
      "source": [
        "# <h1>1D <code>Numpy</code> in Python</h1>"
      ]
    },
    {
      "cell_type": "markdown",
      "metadata": {
        "id": "RNhlxm1jdOAb",
        "colab_type": "text"
      },
      "source": [
        "<p><strong>Welcome!</strong> This notebook will teach you about using <code>Numpy</code> in the Python Programming Language. By the end of this lab, you'll know what <code>Numpy</code> is and the <code>Numpy</code> operations.</p>"
      ]
    },
    {
      "cell_type": "markdown",
      "metadata": {
        "id": "p82Yen-LdOAc",
        "colab_type": "text"
      },
      "source": [
        "# <h2>Table of Contents</h2>\n",
        "<div class=\"alert alert-block alert-info\" style=\"margin-top: 20px\">\n",
        "    <ul>\n",
        "        <li><a href=\"pre\">Preparation</a></li>\n",
        "        <li>\n",
        "            <a href=\"numpy\">What is Numpy?</a>\n",
        "            <ul>\n",
        "                <li><a href=\"type\">Type</a></li>\n",
        "                <li><a href=\"val\">Assign Value</a></li>\n",
        "                <li><a href=\"slice\">Slicing</a></li>\n",
        "                <li><a href=\"list\">Assign Value with List</a></li>\n",
        "                <li><a href=\"other\">Other Attributes</a></li>\n",
        "            </ul>\n",
        "        </li>\n",
        "        <li>\n",
        "            <a href=\"op\">Numpy Array Operations</a>\n",
        "            <ul>\n",
        "                <li><a href=\"add\">Array Addition</a></li>\n",
        "                <li><a href=\"multi\">Array Multiplication</a></li>\n",
        "                <li><a href=\"prod\">Product of Two Numpy Arrays</a></li>\n",
        "                <li><a href=\"dot\">Dot Product</a></li>\n",
        "                <li><a href=\"cons\">Adding Constant to a Numpy Array</a></li>\n",
        "            </ul>\n",
        "        </li>\n",
        "        <li><a href=\"math\">Mathematical Functions</a></li>\n",
        "        <li><a href=\"lin\">Linspace</a></li>\n",
        "    </ul>\n",
        "    <p>\n",
        "        Estimated time needed: <strong>30 min</strong>\n",
        "    </p>\n",
        "</div>\n",
        "\n",
        "<hr>"
      ]
    },
    {
      "cell_type": "markdown",
      "metadata": {
        "id": "k2vZWHKldOAd",
        "colab_type": "text"
      },
      "source": [
        "# <h2 id=\"pre\">Preparation</h2>"
      ]
    },
    {
      "cell_type": "code",
      "metadata": {
        "id": "qn9n2g9GdOAd",
        "colab_type": "code",
        "colab": {}
      },
      "source": [
        "# Import the libraries\n",
        "\n",
        "import time \n",
        "import sys\n",
        "import numpy as np \n",
        "\n",
        "import matplotlib.pyplot as plt\n",
        "%matplotlib inline  "
      ],
      "execution_count": 0,
      "outputs": []
    },
    {
      "cell_type": "code",
      "metadata": {
        "id": "vf-7aAh4dOAi",
        "colab_type": "code",
        "colab": {}
      },
      "source": [
        "# Plotting functions\n",
        "\n",
        "def Plotvec1(u, z, v):\n",
        "    \n",
        "    ax = plt.axes()\n",
        "    ax.arrow(0, 0, *u, head_width=0.05, color='r', head_length=0.1)\n",
        "    plt.text(*(u + 0.1), 'u')\n",
        "    \n",
        "    ax.arrow(0, 0, *v, head_width=0.05, color='b', head_length=0.1)\n",
        "    plt.text(*(v + 0.1), 'v')\n",
        "    ax.arrow(0, 0, *z, head_width=0.05, head_length=0.1)\n",
        "    plt.text(*(z + 0.1), 'z')\n",
        "    plt.ylim(-2, 2)\n",
        "    plt.xlim(-2, 2)\n",
        "\n",
        "def Plotvec2(a,b):\n",
        "    ax = plt.axes()\n",
        "    ax.arrow(0, 0, *a, head_width=0.05, color ='r', head_length=0.1)\n",
        "    plt.text(*(a + 0.1), 'a')\n",
        "    ax.arrow(0, 0, *b, head_width=0.05, color ='b', head_length=0.1)\n",
        "    plt.text(*(b + 0.1), 'b')\n",
        "    plt.ylim(-2, 2)\n",
        "    plt.xlim(-2, 2)"
      ],
      "execution_count": 0,
      "outputs": []
    },
    {
      "cell_type": "markdown",
      "metadata": {
        "id": "fDYIunewdOAk",
        "colab_type": "text"
      },
      "source": [
        "Create a Python List as follows:"
      ]
    },
    {
      "cell_type": "code",
      "metadata": {
        "id": "w-axw_ORdOAl",
        "colab_type": "code",
        "colab": {}
      },
      "source": [
        "# Create a python list\n",
        "\n",
        "a = [\"0\", 1, \"two\", \"3\", 4]"
      ],
      "execution_count": 0,
      "outputs": []
    },
    {
      "cell_type": "markdown",
      "metadata": {
        "id": "sM8F0VKIdOAn",
        "colab_type": "text"
      },
      "source": [
        "We can access the data via an index:"
      ]
    },
    {
      "cell_type": "markdown",
      "metadata": {
        "id": "MgvlbvI2dOAo",
        "colab_type": "text"
      },
      "source": [
        "<img src=\"https://s3-api.us-geo.objectstorage.softlayer.net/cf-courses-data/CognitiveClass/PY0101EN/Chapter%205/Images/NumOneList.png\" width=\"660\" />"
      ]
    },
    {
      "cell_type": "markdown",
      "metadata": {
        "id": "Ej16KV9kdOAo",
        "colab_type": "text"
      },
      "source": [
        "We can access each element using a square bracket as follows: "
      ]
    },
    {
      "cell_type": "code",
      "metadata": {
        "id": "DjlsyLMKdOAp",
        "colab_type": "code",
        "outputId": "e661c940-dc2e-4c28-cf26-06c24da012f1",
        "colab": {
          "base_uri": "https://localhost:8080/",
          "height": 102
        }
      },
      "source": [
        "# Print each element\n",
        "\n",
        "print(\"a[0]:\", a[0])\n",
        "print(\"a[1]:\", a[1])\n",
        "print(\"a[2]:\", a[2])\n",
        "print(\"a[3]:\", a[3])\n",
        "print(\"a[4]:\", a[4])"
      ],
      "execution_count": 4,
      "outputs": [
        {
          "output_type": "stream",
          "text": [
            "a[0]: 0\n",
            "a[1]: 1\n",
            "a[2]: two\n",
            "a[3]: 3\n",
            "a[4]: 4\n"
          ],
          "name": "stdout"
        }
      ]
    },
    {
      "cell_type": "markdown",
      "metadata": {
        "id": "e_Tv74vcdOAr",
        "colab_type": "text"
      },
      "source": [
        "<hr>"
      ]
    },
    {
      "cell_type": "markdown",
      "metadata": {
        "id": "GXaU7Wc8dOAs",
        "colab_type": "text"
      },
      "source": [
        "# <h2 id=\"numpy\">What is Numpy?</h2>"
      ]
    },
    {
      "cell_type": "markdown",
      "metadata": {
        "id": "e1A_zmr7dOAt",
        "colab_type": "text"
      },
      "source": [
        "A numpy array is similar to a list. It's usually fixed in size and each element is of the same type. We can cast a list to a numpy array by first importing numpy: "
      ]
    },
    {
      "cell_type": "code",
      "metadata": {
        "id": "bXZODaavdOAt",
        "colab_type": "code",
        "colab": {}
      },
      "source": [
        "# import numpy library\n",
        "\n",
        "import numpy as np "
      ],
      "execution_count": 0,
      "outputs": []
    },
    {
      "cell_type": "markdown",
      "metadata": {
        "id": "JmMRzJZAdOAw",
        "colab_type": "text"
      },
      "source": [
        " We then cast the list as follows:"
      ]
    },
    {
      "cell_type": "code",
      "metadata": {
        "id": "oLbdULaVdOAx",
        "colab_type": "code",
        "outputId": "3e09e886-501d-4b8b-cff1-3126b2e513af",
        "colab": {
          "base_uri": "https://localhost:8080/",
          "height": 34
        }
      },
      "source": [
        "# Create a numpy array\n",
        "\n",
        "a = np.array([0, 1, 2, 3, 4])\n",
        "a"
      ],
      "execution_count": 6,
      "outputs": [
        {
          "output_type": "execute_result",
          "data": {
            "text/plain": [
              "array([0, 1, 2, 3, 4])"
            ]
          },
          "metadata": {
            "tags": []
          },
          "execution_count": 6
        }
      ]
    },
    {
      "cell_type": "markdown",
      "metadata": {
        "id": "tNGtbJamdOAz",
        "colab_type": "text"
      },
      "source": [
        "Each element is of the same type, in this case integers: "
      ]
    },
    {
      "cell_type": "markdown",
      "metadata": {
        "id": "tnmInM2TdOA0",
        "colab_type": "text"
      },
      "source": [
        "<img src=\"https://s3-api.us-geo.objectstorage.softlayer.net/cf-courses-data/CognitiveClass/PY0101EN/Chapter%205/Images/NumOneNp.png\" width=\"500\" />"
      ]
    },
    {
      "cell_type": "markdown",
      "metadata": {
        "id": "mNhaJ5CBdOA1",
        "colab_type": "text"
      },
      "source": [
        " As with lists, we can access each element via a square bracket:"
      ]
    },
    {
      "cell_type": "code",
      "metadata": {
        "id": "U3jleJc-dOA2",
        "colab_type": "code",
        "outputId": "bfbb0f87-e805-463e-bc69-881a61570dc2",
        "colab": {
          "base_uri": "https://localhost:8080/",
          "height": 102
        }
      },
      "source": [
        "# Print each element\n",
        "\n",
        "print(\"a[0]:\", a[0])\n",
        "print(\"a[1]:\", a[1])\n",
        "print(\"a[2]:\", a[2])\n",
        "print(\"a[3]:\", a[3])\n",
        "print(\"a[4]:\", a[4])"
      ],
      "execution_count": 7,
      "outputs": [
        {
          "output_type": "stream",
          "text": [
            "a[0]: 0\n",
            "a[1]: 1\n",
            "a[2]: 2\n",
            "a[3]: 3\n",
            "a[4]: 4\n"
          ],
          "name": "stdout"
        }
      ]
    },
    {
      "cell_type": "markdown",
      "metadata": {
        "id": "f4_Na8WbdOA4",
        "colab_type": "text"
      },
      "source": [
        "## <h3 id=\"type\">Type</h3>"
      ]
    },
    {
      "cell_type": "markdown",
      "metadata": {
        "id": "29qvsHyJdOA5",
        "colab_type": "text"
      },
      "source": [
        "If we check the type of the array we get <b>numpy.ndarray</b>:"
      ]
    },
    {
      "cell_type": "code",
      "metadata": {
        "id": "WchYAUMndOA6",
        "colab_type": "code",
        "outputId": "7523eee2-0f54-4fe3-cc2f-17c7f5157691",
        "colab": {
          "base_uri": "https://localhost:8080/",
          "height": 0
        }
      },
      "source": [
        "# Check the type of the array\n",
        "\n",
        "type(a)"
      ],
      "execution_count": 8,
      "outputs": [
        {
          "output_type": "execute_result",
          "data": {
            "text/plain": [
              "numpy.ndarray"
            ]
          },
          "metadata": {
            "tags": []
          },
          "execution_count": 8
        }
      ]
    },
    {
      "cell_type": "markdown",
      "metadata": {
        "id": "P9xIRiAkdOA7",
        "colab_type": "text"
      },
      "source": [
        "As numpy arrays contain data of the same type, we can use the attribute \"dtype\" to obtain the Data-type of the array’s elements. In this case a 64-bit integer: \n"
      ]
    },
    {
      "cell_type": "code",
      "metadata": {
        "id": "GtYbJxF5dOA8",
        "colab_type": "code",
        "outputId": "eadca982-30af-4643-abd2-5261a94d64aa",
        "colab": {
          "base_uri": "https://localhost:8080/",
          "height": 0
        }
      },
      "source": [
        "# Check the type of the values stored in numpy array\n",
        "\n",
        "a.dtype"
      ],
      "execution_count": 9,
      "outputs": [
        {
          "output_type": "execute_result",
          "data": {
            "text/plain": [
              "dtype('int64')"
            ]
          },
          "metadata": {
            "tags": []
          },
          "execution_count": 9
        }
      ]
    },
    {
      "cell_type": "markdown",
      "metadata": {
        "id": "2q4txilDdOA_",
        "colab_type": "text"
      },
      "source": [
        "We can create a numpy array with real numbers:"
      ]
    },
    {
      "cell_type": "code",
      "metadata": {
        "id": "-OePWI_XdOBA",
        "colab_type": "code",
        "colab": {}
      },
      "source": [
        "# Create a numpy array\n",
        "\n",
        "b = np.array([3.1, 11.02, 6.2, 213.2, 5.2])"
      ],
      "execution_count": 0,
      "outputs": []
    },
    {
      "cell_type": "markdown",
      "metadata": {
        "id": "KA6DUlOBdOBC",
        "colab_type": "text"
      },
      "source": [
        "When we check the type of the array we get <b>numpy.ndarray</b>:"
      ]
    },
    {
      "cell_type": "code",
      "metadata": {
        "id": "aBA2Txo2dOBD",
        "colab_type": "code",
        "outputId": "a3432bc7-5f25-4b54-831e-9a3930856ca8",
        "colab": {
          "base_uri": "https://localhost:8080/",
          "height": 0
        }
      },
      "source": [
        "# Check the type of array\n",
        "\n",
        "type(b)"
      ],
      "execution_count": 11,
      "outputs": [
        {
          "output_type": "execute_result",
          "data": {
            "text/plain": [
              "numpy.ndarray"
            ]
          },
          "metadata": {
            "tags": []
          },
          "execution_count": 11
        }
      ]
    },
    {
      "cell_type": "markdown",
      "metadata": {
        "id": "MBxCZaAedOBE",
        "colab_type": "text"
      },
      "source": [
        "If we examine the attribute <code>dtype</code> we see float 64, as the elements are not integers: "
      ]
    },
    {
      "cell_type": "code",
      "metadata": {
        "id": "S_W5GngRdOBF",
        "colab_type": "code",
        "outputId": "0b34481e-f8af-4e11-fea5-6e1c0add7f1a",
        "colab": {
          "base_uri": "https://localhost:8080/",
          "height": 0
        }
      },
      "source": [
        "# Check the value type\n",
        "\n",
        "b.dtype"
      ],
      "execution_count": 12,
      "outputs": [
        {
          "output_type": "execute_result",
          "data": {
            "text/plain": [
              "dtype('float64')"
            ]
          },
          "metadata": {
            "tags": []
          },
          "execution_count": 12
        }
      ]
    },
    {
      "cell_type": "markdown",
      "metadata": {
        "id": "SIc_iQHSdOBJ",
        "colab_type": "text"
      },
      "source": [
        "## <h3 id=\"val\">Assign value</h3>"
      ]
    },
    {
      "cell_type": "markdown",
      "metadata": {
        "id": "clnhEdljdOBK",
        "colab_type": "text"
      },
      "source": [
        "We can change the value of the array, consider the array <code>c</code>:"
      ]
    },
    {
      "cell_type": "code",
      "metadata": {
        "id": "SBY88rQ6dOBK",
        "colab_type": "code",
        "outputId": "a635d3e6-79f7-4cac-df52-b5f7604dff16",
        "colab": {
          "base_uri": "https://localhost:8080/",
          "height": 0
        }
      },
      "source": [
        "# Create numpy array\n",
        "\n",
        "c = np.array([20, 1, 2, 3, 4])\n",
        "c"
      ],
      "execution_count": 13,
      "outputs": [
        {
          "output_type": "execute_result",
          "data": {
            "text/plain": [
              "array([20,  1,  2,  3,  4])"
            ]
          },
          "metadata": {
            "tags": []
          },
          "execution_count": 13
        }
      ]
    },
    {
      "cell_type": "markdown",
      "metadata": {
        "id": "G1J6_OrDdOBO",
        "colab_type": "text"
      },
      "source": [
        "We can change the first element of the array to 100 as follows:"
      ]
    },
    {
      "cell_type": "code",
      "metadata": {
        "id": "f24PK5aBdOBQ",
        "colab_type": "code",
        "outputId": "645e7848-d72b-4e3d-8743-353155f71647",
        "colab": {
          "base_uri": "https://localhost:8080/",
          "height": 0
        }
      },
      "source": [
        "# Assign the first element to 100\n",
        "\n",
        "c[0] = 100\n",
        "c"
      ],
      "execution_count": 14,
      "outputs": [
        {
          "output_type": "execute_result",
          "data": {
            "text/plain": [
              "array([100,   1,   2,   3,   4])"
            ]
          },
          "metadata": {
            "tags": []
          },
          "execution_count": 14
        }
      ]
    },
    {
      "cell_type": "markdown",
      "metadata": {
        "id": "jxVHRskrdOBW",
        "colab_type": "text"
      },
      "source": [
        "We can change the 5th element of the array to 0 as follows:"
      ]
    },
    {
      "cell_type": "code",
      "metadata": {
        "id": "YzzVAYE1dOBX",
        "colab_type": "code",
        "outputId": "8f99183b-0f68-476d-8dbf-50430a4634f6",
        "colab": {
          "base_uri": "https://localhost:8080/",
          "height": 0
        }
      },
      "source": [
        "# Assign the 5th element to 0\n",
        "\n",
        "c[4] = 0\n",
        "c"
      ],
      "execution_count": 15,
      "outputs": [
        {
          "output_type": "execute_result",
          "data": {
            "text/plain": [
              "array([100,   1,   2,   3,   0])"
            ]
          },
          "metadata": {
            "tags": []
          },
          "execution_count": 15
        }
      ]
    },
    {
      "cell_type": "markdown",
      "metadata": {
        "id": "sDe7uwdKdOBZ",
        "colab_type": "text"
      },
      "source": [
        "## <h3 id=\"slice\">Slicing</h3>"
      ]
    },
    {
      "cell_type": "markdown",
      "metadata": {
        "id": "GMORJXfBdOBZ",
        "colab_type": "text"
      },
      "source": [
        "Like lists, we can slice the numpy array, and we can select the elements from 1 to 3 and assign it to a new numpy array <code>d</code> as follows:"
      ]
    },
    {
      "cell_type": "code",
      "metadata": {
        "id": "TuVSLGNAdOBa",
        "colab_type": "code",
        "outputId": "d4dbfef2-bb62-4cf2-e780-dbfa0d9e4051",
        "colab": {
          "base_uri": "https://localhost:8080/",
          "height": 0
        }
      },
      "source": [
        "# Slicing the numpy array\n",
        "\n",
        "d = c[1:4]\n",
        "d"
      ],
      "execution_count": 16,
      "outputs": [
        {
          "output_type": "execute_result",
          "data": {
            "text/plain": [
              "array([1, 2, 3])"
            ]
          },
          "metadata": {
            "tags": []
          },
          "execution_count": 16
        }
      ]
    },
    {
      "cell_type": "markdown",
      "metadata": {
        "id": "KdkBdv01dOBc",
        "colab_type": "text"
      },
      "source": [
        "We can assign the corresponding indexes to  new values as follows: "
      ]
    },
    {
      "cell_type": "code",
      "metadata": {
        "id": "XI_pCkpRdOBd",
        "colab_type": "code",
        "outputId": "d05f0aac-864d-4875-c6c4-b80e55383d5b",
        "colab": {
          "base_uri": "https://localhost:8080/",
          "height": 0
        }
      },
      "source": [
        "# Set the fourth element and fifth element to 300 and 400\n",
        "\n",
        "c[3:5] = 300, 400\n",
        "c"
      ],
      "execution_count": 17,
      "outputs": [
        {
          "output_type": "execute_result",
          "data": {
            "text/plain": [
              "array([100,   1,   2, 300, 400])"
            ]
          },
          "metadata": {
            "tags": []
          },
          "execution_count": 17
        }
      ]
    },
    {
      "cell_type": "markdown",
      "metadata": {
        "id": "GOhzUMJBdOBf",
        "colab_type": "text"
      },
      "source": [
        "## <h3 id=\"list\">Assign Value with List</h3>"
      ]
    },
    {
      "cell_type": "markdown",
      "metadata": {
        "id": "Kqj_zqYXdOBf",
        "colab_type": "text"
      },
      "source": [
        "Similarly, we can use a list to select a specific index.\n",
        "The list ' select ' contains several values:\n"
      ]
    },
    {
      "cell_type": "code",
      "metadata": {
        "id": "phm-t-sudOBg",
        "colab_type": "code",
        "colab": {}
      },
      "source": [
        "# Create the index list\n",
        "\n",
        "select = [0, 2, 3]"
      ],
      "execution_count": 0,
      "outputs": []
    },
    {
      "cell_type": "markdown",
      "metadata": {
        "id": "Ro0O7uffdOBi",
        "colab_type": "text"
      },
      "source": [
        "We can use the list as an argument in the brackets. The output is the elements corresponding to the particular index:"
      ]
    },
    {
      "cell_type": "code",
      "metadata": {
        "id": "1cWC5oYtdOBj",
        "colab_type": "code",
        "outputId": "e9f6bcf4-3921-443b-83fc-6a1f421e4033",
        "colab": {
          "base_uri": "https://localhost:8080/",
          "height": 0
        }
      },
      "source": [
        "# Use List to select elements\n",
        "\n",
        "d = c[select]\n",
        "d"
      ],
      "execution_count": 19,
      "outputs": [
        {
          "output_type": "execute_result",
          "data": {
            "text/plain": [
              "array([100,   2, 300])"
            ]
          },
          "metadata": {
            "tags": []
          },
          "execution_count": 19
        }
      ]
    },
    {
      "cell_type": "markdown",
      "metadata": {
        "id": "OJFNU89_dOBm",
        "colab_type": "text"
      },
      "source": [
        "We can assign the specified elements to a new value. For example, we can assign the values to 100 000 as follows:"
      ]
    },
    {
      "cell_type": "code",
      "metadata": {
        "id": "a1CsYSVFdOBn",
        "colab_type": "code",
        "outputId": "8f89265a-e1d1-4388-9501-fa298d6e2eaa",
        "colab": {
          "base_uri": "https://localhost:8080/",
          "height": 0
        }
      },
      "source": [
        "# Assign the specified elements to new value\n",
        "\n",
        "c[select] = 100000\n",
        "c"
      ],
      "execution_count": 20,
      "outputs": [
        {
          "output_type": "execute_result",
          "data": {
            "text/plain": [
              "array([100000,      1, 100000, 100000,    400])"
            ]
          },
          "metadata": {
            "tags": []
          },
          "execution_count": 20
        }
      ]
    },
    {
      "cell_type": "markdown",
      "metadata": {
        "id": "Gg9h1wTIdOBq",
        "colab_type": "text"
      },
      "source": [
        "## <h3 id=\"other\">Other Attributes</h3>"
      ]
    },
    {
      "cell_type": "markdown",
      "metadata": {
        "id": "XJFeBI40dOBq",
        "colab_type": "text"
      },
      "source": [
        "Let's review some basic array attributes using the array <code>a</code>:"
      ]
    },
    {
      "cell_type": "code",
      "metadata": {
        "id": "X-JE-LUpdOBr",
        "colab_type": "code",
        "outputId": "653ef305-29a8-425f-96fc-549abf3517bc",
        "colab": {
          "base_uri": "https://localhost:8080/",
          "height": 0
        }
      },
      "source": [
        "# Create a numpy array\n",
        "\n",
        "a = np.array([0, 1, 2, 3, 4])\n",
        "a"
      ],
      "execution_count": 21,
      "outputs": [
        {
          "output_type": "execute_result",
          "data": {
            "text/plain": [
              "array([0, 1, 2, 3, 4])"
            ]
          },
          "metadata": {
            "tags": []
          },
          "execution_count": 21
        }
      ]
    },
    {
      "cell_type": "markdown",
      "metadata": {
        "id": "i7US5pUJdOBu",
        "colab_type": "text"
      },
      "source": [
        "The attribute <code>size</code> is the number of elements in the array:"
      ]
    },
    {
      "cell_type": "code",
      "metadata": {
        "id": "XC_OhUprdOBv",
        "colab_type": "code",
        "outputId": "b5ff49ae-08ad-474a-aee0-539aa0aa523c",
        "colab": {
          "base_uri": "https://localhost:8080/",
          "height": 0
        }
      },
      "source": [
        "# Get the size of numpy array\n",
        "\n",
        "a.size"
      ],
      "execution_count": 22,
      "outputs": [
        {
          "output_type": "execute_result",
          "data": {
            "text/plain": [
              "5"
            ]
          },
          "metadata": {
            "tags": []
          },
          "execution_count": 22
        }
      ]
    },
    {
      "cell_type": "markdown",
      "metadata": {
        "id": "ugAqEVSZdOBx",
        "colab_type": "text"
      },
      "source": [
        "The next two attributes will make more sense when we get to higher dimensions but let's review them. The attribute <code>ndim</code> represents the number of array dimensions or the rank of the array, in this case, one:"
      ]
    },
    {
      "cell_type": "code",
      "metadata": {
        "id": "1IMpNojBdOBx",
        "colab_type": "code",
        "outputId": "b6eda7bd-148b-4fe7-9c11-4a645c7ceb18",
        "colab": {
          "base_uri": "https://localhost:8080/",
          "height": 0
        }
      },
      "source": [
        "# Get the number of dimensions of numpy array\n",
        "\n",
        "a.ndim"
      ],
      "execution_count": 23,
      "outputs": [
        {
          "output_type": "execute_result",
          "data": {
            "text/plain": [
              "1"
            ]
          },
          "metadata": {
            "tags": []
          },
          "execution_count": 23
        }
      ]
    },
    {
      "cell_type": "markdown",
      "metadata": {
        "id": "uoTFzmJ0dOB3",
        "colab_type": "text"
      },
      "source": [
        "The attribute <code>shape</code> is a tuple of integers indicating the size of the array in each dimension:"
      ]
    },
    {
      "cell_type": "code",
      "metadata": {
        "id": "a0WPpU_rdOB3",
        "colab_type": "code",
        "outputId": "fb854134-5940-4584-dda5-8f6a127af081",
        "colab": {
          "base_uri": "https://localhost:8080/",
          "height": 0
        }
      },
      "source": [
        "# Get the shape/size of numpy array\n",
        "\n",
        "a.shape"
      ],
      "execution_count": 24,
      "outputs": [
        {
          "output_type": "execute_result",
          "data": {
            "text/plain": [
              "(5,)"
            ]
          },
          "metadata": {
            "tags": []
          },
          "execution_count": 24
        }
      ]
    },
    {
      "cell_type": "code",
      "metadata": {
        "id": "5J4ivcdMdOB-",
        "colab_type": "code",
        "colab": {}
      },
      "source": [
        "# Create a numpy array\n",
        "\n",
        "a = np.array([1, -1, 1, -1])"
      ],
      "execution_count": 0,
      "outputs": []
    },
    {
      "cell_type": "code",
      "metadata": {
        "id": "3erJg_kPdOCB",
        "colab_type": "code",
        "outputId": "191f0339-7f87-48eb-c30c-ea9174a965d0",
        "colab": {
          "base_uri": "https://localhost:8080/",
          "height": 0
        }
      },
      "source": [
        "# Get the mean of numpy array\n",
        "\n",
        "mean = a.mean()\n",
        "mean"
      ],
      "execution_count": 26,
      "outputs": [
        {
          "output_type": "execute_result",
          "data": {
            "text/plain": [
              "0.0"
            ]
          },
          "metadata": {
            "tags": []
          },
          "execution_count": 26
        }
      ]
    },
    {
      "cell_type": "code",
      "metadata": {
        "id": "ZpYhZ_IQdOCF",
        "colab_type": "code",
        "outputId": "daa1eea5-6625-44a4-85a5-a106bf24b04b",
        "colab": {
          "base_uri": "https://localhost:8080/",
          "height": 0
        }
      },
      "source": [
        "# Get the standard deviation of numpy array\n",
        "\n",
        "standard_deviation=a.std()\n",
        "standard_deviation"
      ],
      "execution_count": 27,
      "outputs": [
        {
          "output_type": "execute_result",
          "data": {
            "text/plain": [
              "1.0"
            ]
          },
          "metadata": {
            "tags": []
          },
          "execution_count": 27
        }
      ]
    },
    {
      "cell_type": "code",
      "metadata": {
        "id": "z8fIWsVWdOCG",
        "colab_type": "code",
        "outputId": "cb120d6a-ef81-4030-b589-f4bf48448ddc",
        "colab": {
          "base_uri": "https://localhost:8080/",
          "height": 0
        }
      },
      "source": [
        "# Create a numpy array\n",
        "\n",
        "b = np.array([-1, 2, 3, 4, 5])\n",
        "b"
      ],
      "execution_count": 28,
      "outputs": [
        {
          "output_type": "execute_result",
          "data": {
            "text/plain": [
              "array([-1,  2,  3,  4,  5])"
            ]
          },
          "metadata": {
            "tags": []
          },
          "execution_count": 28
        }
      ]
    },
    {
      "cell_type": "code",
      "metadata": {
        "id": "DOyevHRsdOCJ",
        "colab_type": "code",
        "outputId": "f4faecfa-eee9-40c4-bf32-eb4ae4b9ec1a",
        "colab": {
          "base_uri": "https://localhost:8080/",
          "height": 0
        }
      },
      "source": [
        "# Get the biggest value in the numpy array\n",
        "\n",
        "max_b = b.max()\n",
        "max_b"
      ],
      "execution_count": 29,
      "outputs": [
        {
          "output_type": "execute_result",
          "data": {
            "text/plain": [
              "5"
            ]
          },
          "metadata": {
            "tags": []
          },
          "execution_count": 29
        }
      ]
    },
    {
      "cell_type": "code",
      "metadata": {
        "id": "s4wa1twddOCK",
        "colab_type": "code",
        "outputId": "994c68c8-89f4-4b8e-db7a-7632d9a85868",
        "colab": {
          "base_uri": "https://localhost:8080/",
          "height": 0
        }
      },
      "source": [
        "# Get the smallest value in the numpy array\n",
        "\n",
        "min_b = b.min()\n",
        "min_b"
      ],
      "execution_count": 30,
      "outputs": [
        {
          "output_type": "execute_result",
          "data": {
            "text/plain": [
              "-1"
            ]
          },
          "metadata": {
            "tags": []
          },
          "execution_count": 30
        }
      ]
    },
    {
      "cell_type": "markdown",
      "metadata": {
        "id": "dCBR5lkRdOCN",
        "colab_type": "text"
      },
      "source": [
        "<hr>"
      ]
    },
    {
      "cell_type": "markdown",
      "metadata": {
        "id": "AQao2AmadOCO",
        "colab_type": "text"
      },
      "source": [
        "# <h2 id=\"op\">Numpy Array Operations</h2>"
      ]
    },
    {
      "cell_type": "markdown",
      "metadata": {
        "id": "zippJUavdOCT",
        "colab_type": "text"
      },
      "source": [
        "## <h3 id=\"add\">Array Addition</h3>"
      ]
    },
    {
      "cell_type": "markdown",
      "metadata": {
        "id": "UNybWMfUdOCU",
        "colab_type": "text"
      },
      "source": [
        "Consider the numpy array <code>u</code>:"
      ]
    },
    {
      "cell_type": "code",
      "metadata": {
        "id": "uXVX966mdOCV",
        "colab_type": "code",
        "outputId": "f7f2e28a-d96b-473d-d5a3-0227f55f193d",
        "colab": {
          "base_uri": "https://localhost:8080/",
          "height": 0
        }
      },
      "source": [
        "u = np.array([1, 0])\n",
        "u"
      ],
      "execution_count": 31,
      "outputs": [
        {
          "output_type": "execute_result",
          "data": {
            "text/plain": [
              "array([1, 0])"
            ]
          },
          "metadata": {
            "tags": []
          },
          "execution_count": 31
        }
      ]
    },
    {
      "cell_type": "markdown",
      "metadata": {
        "id": "vWIBqnJpdOCX",
        "colab_type": "text"
      },
      "source": [
        "Consider the numpy array <code>v</code>:"
      ]
    },
    {
      "cell_type": "code",
      "metadata": {
        "id": "yvWvMS8hdOCY",
        "colab_type": "code",
        "outputId": "55798438-1cc8-4d44-e1ea-9cf80891ab36",
        "colab": {
          "base_uri": "https://localhost:8080/",
          "height": 0
        }
      },
      "source": [
        "v = np.array([0, 1])\n",
        "v"
      ],
      "execution_count": 32,
      "outputs": [
        {
          "output_type": "execute_result",
          "data": {
            "text/plain": [
              "array([0, 1])"
            ]
          },
          "metadata": {
            "tags": []
          },
          "execution_count": 32
        }
      ]
    },
    {
      "cell_type": "markdown",
      "metadata": {
        "id": "4Yd7wx0vdOCb",
        "colab_type": "text"
      },
      "source": [
        "We can add the two arrays and assign it to z:"
      ]
    },
    {
      "cell_type": "code",
      "metadata": {
        "id": "OtdzQFu5dOCb",
        "colab_type": "code",
        "outputId": "c5cbf458-ffe3-4e82-e57a-d16fa84894f2",
        "colab": {
          "base_uri": "https://localhost:8080/",
          "height": 0
        }
      },
      "source": [
        "# Numpy Array Addition\n",
        "\n",
        "z = u + v\n",
        "z"
      ],
      "execution_count": 33,
      "outputs": [
        {
          "output_type": "execute_result",
          "data": {
            "text/plain": [
              "array([1, 1])"
            ]
          },
          "metadata": {
            "tags": []
          },
          "execution_count": 33
        }
      ]
    },
    {
      "cell_type": "markdown",
      "metadata": {
        "id": "XDeInHVYdOCd",
        "colab_type": "text"
      },
      "source": [
        " The operation is equivalent to vector addition:"
      ]
    },
    {
      "cell_type": "code",
      "metadata": {
        "id": "pVbcLQT-dOCd",
        "colab_type": "code",
        "outputId": "c45a236c-3eff-45c2-b1e7-07ac0a52d450",
        "colab": {
          "base_uri": "https://localhost:8080/",
          "height": 0
        }
      },
      "source": [
        "# Plot numpy arrays\n",
        "\n",
        "Plotvec1(u, z, v)"
      ],
      "execution_count": 34,
      "outputs": [
        {
          "output_type": "display_data",
          "data": {
            "image/png": "[encoded data removed]",
            "text/plain": [
              "<Figure size 432x288 with 1 Axes>"
            ]
          },
          "metadata": {
            "tags": []
          }
        }
      ]
    },
    {
      "cell_type": "markdown",
      "metadata": {
        "id": "Y-Ikk1AldOCh",
        "colab_type": "text"
      },
      "source": [
        "## <h3 id=\"multi\">Array Multiplication</h3>"
      ]
    },
    {
      "cell_type": "markdown",
      "metadata": {
        "id": "84A7c8M7dOCi",
        "colab_type": "text"
      },
      "source": [
        "Consider the vector numpy array <code>y</code>:"
      ]
    },
    {
      "cell_type": "code",
      "metadata": {
        "id": "FJ7KTc_KdOCi",
        "colab_type": "code",
        "outputId": "35a80a23-a882-429b-cd63-f86f0ff0b941",
        "colab": {
          "base_uri": "https://localhost:8080/",
          "height": 0
        }
      },
      "source": [
        "# Create a numpy array\n",
        "\n",
        "y = np.array([1, 2])\n",
        "y"
      ],
      "execution_count": 35,
      "outputs": [
        {
          "output_type": "execute_result",
          "data": {
            "text/plain": [
              "array([1, 2])"
            ]
          },
          "metadata": {
            "tags": []
          },
          "execution_count": 35
        }
      ]
    },
    {
      "cell_type": "markdown",
      "metadata": {
        "id": "JH-3ozU8dOCl",
        "colab_type": "text"
      },
      "source": [
        "We can multiply every element in the array by 2:"
      ]
    },
    {
      "cell_type": "code",
      "metadata": {
        "id": "j5QM6bXAdOCn",
        "colab_type": "code",
        "outputId": "b29f646e-7cd2-4db3-813f-ff8613081551",
        "colab": {
          "base_uri": "https://localhost:8080/",
          "height": 0
        }
      },
      "source": [
        "# Numpy Array Multiplication\n",
        "\n",
        "z = 2 * y\n",
        "z"
      ],
      "execution_count": 36,
      "outputs": [
        {
          "output_type": "execute_result",
          "data": {
            "text/plain": [
              "array([2, 4])"
            ]
          },
          "metadata": {
            "tags": []
          },
          "execution_count": 36
        }
      ]
    },
    {
      "cell_type": "markdown",
      "metadata": {
        "id": "2m1fO4GudOCq",
        "colab_type": "text"
      },
      "source": [
        " This is equivalent to multiplying a vector by a scaler: "
      ]
    },
    {
      "cell_type": "markdown",
      "metadata": {
        "id": "1mFZLBFjdOCr",
        "colab_type": "text"
      },
      "source": [
        "## <h3 id=\"prod\">Product of Two Numpy Arrays</h3>"
      ]
    },
    {
      "cell_type": "markdown",
      "metadata": {
        "id": "iqlbt8hAdOCr",
        "colab_type": "text"
      },
      "source": [
        "Consider the following array <code>u</code>:"
      ]
    },
    {
      "cell_type": "code",
      "metadata": {
        "id": "TjzhunJFdOCs",
        "colab_type": "code",
        "outputId": "9f295480-2870-4048-81d8-771ba7a6d653",
        "colab": {
          "base_uri": "https://localhost:8080/",
          "height": 0
        }
      },
      "source": [
        "# Create a numpy array\n",
        "\n",
        "u = np.array([1, 2])\n",
        "u"
      ],
      "execution_count": 37,
      "outputs": [
        {
          "output_type": "execute_result",
          "data": {
            "text/plain": [
              "array([1, 2])"
            ]
          },
          "metadata": {
            "tags": []
          },
          "execution_count": 37
        }
      ]
    },
    {
      "cell_type": "markdown",
      "metadata": {
        "id": "_LR6Tz63dOCu",
        "colab_type": "text"
      },
      "source": [
        "Consider the following array <code>v</code>:"
      ]
    },
    {
      "cell_type": "code",
      "metadata": {
        "id": "hdv2MUm0dOCv",
        "colab_type": "code",
        "outputId": "18f1cac4-dc7a-428d-d1b9-b50f4d391a26",
        "colab": {
          "base_uri": "https://localhost:8080/",
          "height": 0
        }
      },
      "source": [
        "# Create a numpy array\n",
        "\n",
        "v = np.array([3, 2])\n",
        "v"
      ],
      "execution_count": 38,
      "outputs": [
        {
          "output_type": "execute_result",
          "data": {
            "text/plain": [
              "array([3, 2])"
            ]
          },
          "metadata": {
            "tags": []
          },
          "execution_count": 38
        }
      ]
    },
    {
      "cell_type": "markdown",
      "metadata": {
        "id": "9B9tlO1ddOCw",
        "colab_type": "text"
      },
      "source": [
        " The product of the two numpy arrays <code>u</code> and <code>v</code> is given by:"
      ]
    },
    {
      "cell_type": "code",
      "metadata": {
        "id": "0wZTFx2idOCx",
        "colab_type": "code",
        "outputId": "e41b5dcb-d5d4-4938-dd25-4439a5b8a0a2",
        "colab": {
          "base_uri": "https://localhost:8080/",
          "height": 0
        }
      },
      "source": [
        "# Calculate the production of two numpy arrays\n",
        "\n",
        "z = u * v\n",
        "z"
      ],
      "execution_count": 39,
      "outputs": [
        {
          "output_type": "execute_result",
          "data": {
            "text/plain": [
              "array([3, 4])"
            ]
          },
          "metadata": {
            "tags": []
          },
          "execution_count": 39
        }
      ]
    },
    {
      "cell_type": "markdown",
      "metadata": {
        "id": "Qdl0T-QDdOCz",
        "colab_type": "text"
      },
      "source": [
        "## <h3 id=\"dot\">Dot Product</h3>"
      ]
    },
    {
      "cell_type": "markdown",
      "metadata": {
        "id": "WIVI7t04dOC2",
        "colab_type": "text"
      },
      "source": [
        "The dot product of the two numpy arrays <code>u</code> and <code>v</code> is given by:"
      ]
    },
    {
      "cell_type": "code",
      "metadata": {
        "id": "_CCBZgzUdOC3",
        "colab_type": "code",
        "outputId": "40344d73-6b1e-4b51-e4d0-ca2d2ca54f66",
        "colab": {
          "base_uri": "https://localhost:8080/",
          "height": 0
        }
      },
      "source": [
        "# Calculate the dot product\n",
        "\n",
        "np.dot(u, v)"
      ],
      "execution_count": 40,
      "outputs": [
        {
          "output_type": "execute_result",
          "data": {
            "text/plain": [
              "7"
            ]
          },
          "metadata": {
            "tags": []
          },
          "execution_count": 40
        }
      ]
    },
    {
      "cell_type": "markdown",
      "metadata": {
        "id": "YpP4mya7dOC4",
        "colab_type": "text"
      },
      "source": [
        "## <h3 id=\"cons\">Adding Constant to a Numpy Array</h3>"
      ]
    },
    {
      "cell_type": "markdown",
      "metadata": {
        "id": "1UJu-oibdOC5",
        "colab_type": "text"
      },
      "source": [
        "Consider the following array: "
      ]
    },
    {
      "cell_type": "code",
      "metadata": {
        "id": "EoB4XdPJdOC5",
        "colab_type": "code",
        "outputId": "44fdf777-145a-4e20-c18e-79360fe283d5",
        "colab": {
          "base_uri": "https://localhost:8080/",
          "height": 0
        }
      },
      "source": [
        "# Create a constant to numpy array\n",
        "\n",
        "u = np.array([1, 2, 3, -1]) \n",
        "u"
      ],
      "execution_count": 41,
      "outputs": [
        {
          "output_type": "execute_result",
          "data": {
            "text/plain": [
              "array([ 1,  2,  3, -1])"
            ]
          },
          "metadata": {
            "tags": []
          },
          "execution_count": 41
        }
      ]
    },
    {
      "cell_type": "markdown",
      "metadata": {
        "id": "raL8vwFPdOC7",
        "colab_type": "text"
      },
      "source": [
        "Adding the constant 1 to each element in the array:"
      ]
    },
    {
      "cell_type": "code",
      "metadata": {
        "id": "2p11nLJRdOC7",
        "colab_type": "code",
        "outputId": "3bb9154e-34d7-45d7-a206-9436cafefa6d",
        "colab": {
          "base_uri": "https://localhost:8080/",
          "height": 0
        }
      },
      "source": [
        "# Add the constant to array\n",
        "\n",
        "u + 1"
      ],
      "execution_count": 42,
      "outputs": [
        {
          "output_type": "execute_result",
          "data": {
            "text/plain": [
              "array([2, 3, 4, 0])"
            ]
          },
          "metadata": {
            "tags": []
          },
          "execution_count": 42
        }
      ]
    },
    {
      "cell_type": "markdown",
      "metadata": {
        "id": "SoCQO9kAdOC9",
        "colab_type": "text"
      },
      "source": [
        " The process is summarised in the following animation:"
      ]
    },
    {
      "cell_type": "markdown",
      "metadata": {
        "id": "xAAu3GeYdOC9",
        "colab_type": "text"
      },
      "source": [
        "<img src=\"https://s3-api.us-geo.objectstorage.softlayer.net/cf-courses-data/CognitiveClass/PY0101EN/Chapter%205/Images/NumOneAdd.gif\" width=\"500\" />"
      ]
    },
    {
      "cell_type": "markdown",
      "metadata": {
        "id": "Wz3ATmbAdOC-",
        "colab_type": "text"
      },
      "source": [
        "<hr>"
      ]
    },
    {
      "cell_type": "markdown",
      "metadata": {
        "id": "qnaCUuVudOC-",
        "colab_type": "text"
      },
      "source": [
        "# <h2 id=\"math\">Mathematical Functions</h2>"
      ]
    },
    {
      "cell_type": "markdown",
      "metadata": {
        "id": "ZYjFDo3_dOC_",
        "colab_type": "text"
      },
      "source": [
        " We can access the value of pie in numpy as follows :"
      ]
    },
    {
      "cell_type": "code",
      "metadata": {
        "id": "4MFFyoOMdOC_",
        "colab_type": "code",
        "outputId": "21937bb0-9ea5-4f2e-d4c8-cdf8a4a5e32a",
        "colab": {
          "base_uri": "https://localhost:8080/",
          "height": 0
        }
      },
      "source": [
        "# The value of pie\n",
        "\n",
        "np.pi"
      ],
      "execution_count": 43,
      "outputs": [
        {
          "output_type": "execute_result",
          "data": {
            "text/plain": [
              "3.141592653589793"
            ]
          },
          "metadata": {
            "tags": []
          },
          "execution_count": 43
        }
      ]
    },
    {
      "cell_type": "markdown",
      "metadata": {
        "id": "v86xUUxsdODB",
        "colab_type": "text"
      },
      "source": [
        " We can create the following numpy array in Radians:"
      ]
    },
    {
      "cell_type": "code",
      "metadata": {
        "id": "rGQ3uGBndODB",
        "colab_type": "code",
        "colab": {}
      },
      "source": [
        "# Create the numpy array in radians\n",
        "\n",
        "x = np.array([0, np.pi/2 , np.pi])"
      ],
      "execution_count": 0,
      "outputs": []
    },
    {
      "cell_type": "markdown",
      "metadata": {
        "id": "RJTc057adODD",
        "colab_type": "text"
      },
      "source": [
        "We can apply the function <code>sin</code> to the array <code>x</code> and assign the values to the array <code>y</code>; this applies the sine function to each element in the array:  "
      ]
    },
    {
      "cell_type": "code",
      "metadata": {
        "id": "fsLIUZz_dODD",
        "colab_type": "code",
        "outputId": "422f3b90-c639-4709-b540-fd92cfb6c4f6",
        "colab": {
          "base_uri": "https://localhost:8080/",
          "height": 0
        }
      },
      "source": [
        "# Calculate the sin of each elements\n",
        "\n",
        "y = np.sin(x)\n",
        "y"
      ],
      "execution_count": 45,
      "outputs": [
        {
          "output_type": "execute_result",
          "data": {
            "text/plain": [
              "array([0.0000000e+00, 1.0000000e+00, 1.2246468e-16])"
            ]
          },
          "metadata": {
            "tags": []
          },
          "execution_count": 45
        }
      ]
    },
    {
      "cell_type": "markdown",
      "metadata": {
        "id": "YmHDqerLdODW",
        "colab_type": "text"
      },
      "source": [
        "<hr>"
      ]
    },
    {
      "cell_type": "markdown",
      "metadata": {
        "id": "dhXwv_AHdODW",
        "colab_type": "text"
      },
      "source": [
        "# <h2 id=\"lin\">Linspace</h2>"
      ]
    },
    {
      "cell_type": "markdown",
      "metadata": {
        "id": "kbSQzRNJdODa",
        "colab_type": "text"
      },
      "source": [
        " A useful function for plotting mathematical functions is \"linespace\".   Linespace returns evenly spaced numbers over a specified interval. We specify the starting point of the sequence and the ending point of the sequence. The parameter \"num\" indicates the Number of samples to generate, in this case 5:"
      ]
    },
    {
      "cell_type": "code",
      "metadata": {
        "id": "kd9r4xEPdODb",
        "colab_type": "code",
        "outputId": "dba70560-0af9-45ef-88a7-b78d0320420f",
        "colab": {
          "base_uri": "https://localhost:8080/",
          "height": 0
        }
      },
      "source": [
        "# Makeup a numpy array within [-2, 2] and 5 elements\n",
        "\n",
        "np.linspace(-2, 2, num=5)"
      ],
      "execution_count": 46,
      "outputs": [
        {
          "output_type": "execute_result",
          "data": {
            "text/plain": [
              "array([-2., -1.,  0.,  1.,  2.])"
            ]
          },
          "metadata": {
            "tags": []
          },
          "execution_count": 46
        }
      ]
    },
    {
      "cell_type": "markdown",
      "metadata": {
        "id": "1WrT-D59dODd",
        "colab_type": "text"
      },
      "source": [
        "If we change the parameter <code>num</code> to 9, we get 9 evenly spaced numbers over the interval from -2 to 2: "
      ]
    },
    {
      "cell_type": "code",
      "metadata": {
        "id": "2e18Fbk0dODe",
        "colab_type": "code",
        "outputId": "f8344eab-d0d6-42ca-b928-6b0f55be48b7",
        "colab": {
          "base_uri": "https://localhost:8080/",
          "height": 0
        }
      },
      "source": [
        "# Makeup a numpy array within [-2, 2] and 9 elements\n",
        "\n",
        "np.linspace(-2, 2, num=9)"
      ],
      "execution_count": 47,
      "outputs": [
        {
          "output_type": "execute_result",
          "data": {
            "text/plain": [
              "array([-2. , -1.5, -1. , -0.5,  0. ,  0.5,  1. ,  1.5,  2. ])"
            ]
          },
          "metadata": {
            "tags": []
          },
          "execution_count": 47
        }
      ]
    },
    {
      "cell_type": "markdown",
      "metadata": {
        "id": "mL2QGjNkdODh",
        "colab_type": "text"
      },
      "source": [
        "We can use the function line space to generate 100 evenly spaced samples from the interval 0 to 2π: "
      ]
    },
    {
      "cell_type": "code",
      "metadata": {
        "id": "wo-SImA3dODh",
        "colab_type": "code",
        "colab": {}
      },
      "source": [
        "# Makeup a numpy array within [0, 2π] and 100 elements \n",
        "\n",
        "x = np.linspace(0, 2*np.pi, num=100)"
      ],
      "execution_count": 0,
      "outputs": []
    },
    {
      "cell_type": "markdown",
      "metadata": {
        "id": "6IaFE8UGdODj",
        "colab_type": "text"
      },
      "source": [
        "We can apply the sine function to each element in the array <code>x</code> and assign it to the array <code>y</code>: "
      ]
    },
    {
      "cell_type": "code",
      "metadata": {
        "id": "6IpVpe0GdODk",
        "colab_type": "code",
        "colab": {}
      },
      "source": [
        "# Calculate the sine of x list\n",
        "\n",
        "y = np.sin(x)"
      ],
      "execution_count": 0,
      "outputs": []
    },
    {
      "cell_type": "code",
      "metadata": {
        "id": "pcNGr0rldODl",
        "colab_type": "code",
        "outputId": "8fb7a85d-4b1c-49b3-d399-153269cf2d0e",
        "colab": {
          "base_uri": "https://localhost:8080/",
          "height": 0
        }
      },
      "source": [
        "# Plot the result\n",
        "\n",
        "plt.plot(x, y)"
      ],
      "execution_count": 50,
      "outputs": [
        {
          "output_type": "execute_result",
          "data": {
            "text/plain": [
              "[<matplotlib.lines.Line2D at 0x7f5d943e78d0>]"
            ]
          },
          "metadata": {
            "tags": []
          },
          "execution_count": 50
        },
        {
          "output_type": "display_data",
          "data": {
            "image/png": "[encoded data removed]",
            "text/plain": [
              "<Figure size 432x288 with 1 Axes>"
            ]
          },
          "metadata": {
            "tags": []
          }
        }
      ]
    },
    {
      "cell_type": "markdown",
      "metadata": {
        "id": "FicIJuiudODo",
        "colab_type": "text"
      },
      "source": [
        "<hr>"
      ]
    },
    {
      "cell_type": "markdown",
      "metadata": {
        "id": "CyFgDyW3dODp",
        "colab_type": "text"
      },
      "source": [
        "# <h2 id=\"quiz\">Quiz on 1D Numpy Array</h2>"
      ]
    },
    {
      "cell_type": "markdown",
      "metadata": {
        "id": "letPoSRFdODq",
        "colab_type": "text"
      },
      "source": [
        "Implement the following vector subtraction in numpy: u-v"
      ]
    },
    {
      "cell_type": "code",
      "metadata": {
        "id": "DScWuiq4dODq",
        "colab_type": "code",
        "colab": {}
      },
      "source": [
        "# Write your code below and press Shift+Enter to execute\n",
        "\n",
        "u = np.array([1, 0])\n",
        "v = np.array([0, 1])"
      ],
      "execution_count": 0,
      "outputs": []
    },
    {
      "cell_type": "markdown",
      "metadata": {
        "id": "ciQw74cJdODs",
        "colab_type": "text"
      },
      "source": [
        "Double-click __here__ for the solution.\n",
        "\n",
        "<!-- Your answer is below:\n",
        "u - v\n",
        "-->"
      ]
    },
    {
      "cell_type": "markdown",
      "metadata": {
        "id": "iB8s6l7ldODt",
        "colab_type": "text"
      },
      "source": [
        "<hr>"
      ]
    },
    {
      "cell_type": "markdown",
      "metadata": {
        "id": "TWBPGV6tdODt",
        "colab_type": "text"
      },
      "source": [
        "Multiply the numpy array z with -2:"
      ]
    },
    {
      "cell_type": "code",
      "metadata": {
        "id": "D9bKo5D9dODu",
        "colab_type": "code",
        "colab": {}
      },
      "source": [
        "# Write your code below and press Shift+Enter to execute\n",
        "\n",
        "z = np.array([2, 4])"
      ],
      "execution_count": 0,
      "outputs": []
    },
    {
      "cell_type": "markdown",
      "metadata": {
        "id": "_caXZ1qFdODv",
        "colab_type": "text"
      },
      "source": [
        "Double-click __here__ for the solution.\n",
        "\n",
        "<!-- Your answer is below:\n",
        "-2 * z\n",
        "-->"
      ]
    },
    {
      "cell_type": "markdown",
      "metadata": {
        "id": "HGdiX1dtdODw",
        "colab_type": "text"
      },
      "source": [
        "<hr>"
      ]
    },
    {
      "cell_type": "markdown",
      "metadata": {
        "id": "2pIaXNypdODx",
        "colab_type": "text"
      },
      "source": [
        "Consider the list <code>[1, 2, 3, 4, 5]</code> and <code>[1, 0, 1, 0, 1]</code>, and cast both lists to a numpy array then multiply them together:"
      ]
    },
    {
      "cell_type": "code",
      "metadata": {
        "id": "JmK7sABBdODy",
        "colab_type": "code",
        "colab": {}
      },
      "source": [
        "# Write your code below and press Shift+Enter to execute"
      ],
      "execution_count": 0,
      "outputs": []
    },
    {
      "cell_type": "markdown",
      "metadata": {
        "id": "MGRfALZ7dOD0",
        "colab_type": "text"
      },
      "source": [
        "Double-click __here__ for the solution.\n",
        "\n",
        "<!-- Your answer is below:\n",
        "a = np.array([1, 2, 3, 4, 5])\n",
        "b = np.array([1, 0, 1, 0, 1])\n",
        "a * b\n",
        "-->"
      ]
    },
    {
      "cell_type": "markdown",
      "metadata": {
        "id": "c_S5TiG7dOD1",
        "colab_type": "text"
      },
      "source": [
        "<hr>"
      ]
    },
    {
      "cell_type": "markdown",
      "metadata": {
        "id": "pITCTI60dOD2",
        "colab_type": "text"
      },
      "source": [
        "Convert the list <code>[-1, 1]</code> and <code>[1, 1]</code> to numpy arrays <code>a</code> and <code>b</code>.  Then, plot the arrays as vectors using the fuction <code>Plotvec2</code> and find the dot product:"
      ]
    },
    {
      "cell_type": "code",
      "metadata": {
        "id": "6LWIllHNdOD3",
        "colab_type": "code",
        "colab": {}
      },
      "source": [
        "# Write your code below and press Shift+Enter to execute"
      ],
      "execution_count": 0,
      "outputs": []
    },
    {
      "cell_type": "markdown",
      "metadata": {
        "id": "0pAOowwVdOD6",
        "colab_type": "text"
      },
      "source": [
        "Double-click __here__ for the solution.\n",
        "\n",
        "<!-- Your answer is below:\n",
        "a = np.array([-1, 1])\n",
        "b = np.array([1, 1])\n",
        "Plotvec2(a, b)\n",
        "print(\"The dot product is\", np.dot(a,b))\n",
        "-->"
      ]
    },
    {
      "cell_type": "markdown",
      "metadata": {
        "id": "tihrYETsdOD7",
        "colab_type": "text"
      },
      "source": [
        "<hr>"
      ]
    },
    {
      "cell_type": "markdown",
      "metadata": {
        "id": "Ci4a_S7idOD7",
        "colab_type": "text"
      },
      "source": [
        "Convert the list <code>[1, 0]</code> and <code>[0, 1]</code> to numpy arrays <code>a</code> and <code>b</code>. Then, plot the arrays as vectors using the function <code>Plotvec2</code> and find the dot product:"
      ]
    },
    {
      "cell_type": "code",
      "metadata": {
        "id": "vDVexB9RdOD7",
        "colab_type": "code",
        "colab": {}
      },
      "source": [
        "# Write your code below and press Shift+Enter to execute"
      ],
      "execution_count": 0,
      "outputs": []
    },
    {
      "cell_type": "markdown",
      "metadata": {
        "id": "NOF3Q5tNdOD9",
        "colab_type": "text"
      },
      "source": [
        "Double-click __here__ for the solution.\n",
        "\n",
        "<!-- \n",
        "a = np.array([1, 0])\n",
        "b = np.array([0, 1])\n",
        "Plotvec2(a, b)\n",
        "print(\"The dot product is\", np.dot(a, b))\n",
        " -->"
      ]
    },
    {
      "cell_type": "markdown",
      "metadata": {
        "id": "4ifSpHgldOD9",
        "colab_type": "text"
      },
      "source": [
        "<hr>"
      ]
    },
    {
      "cell_type": "markdown",
      "metadata": {
        "id": "ujJhFTt9dOD-",
        "colab_type": "text"
      },
      "source": [
        "Convert the list <code>[1, 1]</code> and <code>[0, 1]</code> to numpy arrays <code>a</code> and <code>b</code>. Then plot the arrays as vectors using the fuction <code>Plotvec2</code> and find the dot product:"
      ]
    },
    {
      "cell_type": "code",
      "metadata": {
        "id": "YvJyN3QwdOD-",
        "colab_type": "code",
        "colab": {}
      },
      "source": [
        "# Write your code below and press Shift+Enter to execute"
      ],
      "execution_count": 0,
      "outputs": []
    },
    {
      "cell_type": "markdown",
      "metadata": {
        "id": "qrV27TE1dOEA",
        "colab_type": "text"
      },
      "source": [
        "Double-click __here__ for the solution.\n",
        "\n",
        "<!-- \n",
        "a = np.array([1, 1])\n",
        "b = np.array([0, 1])\n",
        "Plotvec2(a, b)\n",
        "print(\"The dot product is\", np.dot(a, b))\n",
        "print(\"The dot product is\", np.dot(a, b))\n",
        " -->"
      ]
    },
    {
      "cell_type": "markdown",
      "metadata": {
        "id": "wgavtzZCdOEC",
        "colab_type": "text"
      },
      "source": [
        "<hr>"
      ]
    },
    {
      "cell_type": "markdown",
      "metadata": {
        "id": "Wd6d6ZLzdOEE",
        "colab_type": "text"
      },
      "source": [
        "Why are the results of the dot product for <code>[-1, 1]</code> and <code>[1, 1]</code> and the dot product for <code>[1, 0]</code> and <code>[0, 1]</code> zero, but not zero for the dot product for <code>[1, 1]</code> and <code>[0, 1]</code>? <p><i>Hint: Study the corresponding figures, pay attention to the direction the arrows are pointing to.</i></p>"
      ]
    },
    {
      "cell_type": "code",
      "metadata": {
        "id": "lm8fUjZ0dOEF",
        "colab_type": "code",
        "colab": {}
      },
      "source": [
        "# Write your code below and press Shift+Enter to execute"
      ],
      "execution_count": 0,
      "outputs": []
    },
    {
      "cell_type": "markdown",
      "metadata": {
        "id": "pK28ERwrdOEH",
        "colab_type": "text"
      },
      "source": [
        "Double-click __here__ for the solution.\n",
        "\n",
        "<!-- \n",
        "The vectors used for question 4 and 5 are perpendicular. As a result, the dot product is zero. \n",
        "-->"
      ]
    },
    {
      "cell_type": "markdown",
      "metadata": {
        "id": "tE6_8XUTdOEH",
        "colab_type": "text"
      },
      "source": [
        "<hr>\n",
        "<h2>The last exercise!</h2>\n",
        "<p>Congratulations, you have completed your first lesson and hands-on lab in Python. However, there is one more thing you need to do. The Data Science community encourages sharing work. The best way to share and showcase your work is to share it on GitHub. By sharing your notebook on GitHub you are not only building your reputation with fellow data scientists, but you can also show it off when applying for a job. Even though this was your first piece of work, it is never too early to start building good habits. So, please read and follow <a href=\"https://cognitiveclass.ai/blog/data-scientists-stand-out-by-sharing-your-notebooks/\" target=\"_blank\">this article</a> to learn how to share your work.\n",
        "<hr>"
      ]
    },
    {
      "cell_type": "markdown",
      "metadata": {
        "id": "C4gJuyTmdOEN",
        "colab_type": "text"
      },
      "source": [
        "<p>Copyright &copy; 2018 IBM Developer Skills Network. This notebook and its source code are released under the terms of the <a href=\"https://cognitiveclass.ai/mit-license/\">MIT License</a>.</p>"
      ]
    }
  ]
}