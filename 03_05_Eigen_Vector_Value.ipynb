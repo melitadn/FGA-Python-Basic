{
  "nbformat": 4,
  "nbformat_minor": 0,
  "metadata": {
    "colab": {
      "name": "03-05-Eigen Vector Value.ipynb",
      "version": "0.3.2",
      "provenance": [],
      "include_colab_link": true
    },
    "kernelspec": {
      "name": "python3",
      "display_name": "Python 3"
    }
  },
  "cells": [
    {
      "cell_type": "markdown",
      "metadata": {
        "id": "view-in-github",
        "colab_type": "text"
      },
      "source": [
        "<a href=\"https://colab.research.google.com/github/melitadn/FGA-Python-Basic/blob/master/03_05_Eigen_Vector_Value.ipynb\" target=\"_parent\"><img src=\"https://colab.research.google.com/assets/colab-badge.svg\" alt=\"Open In Colab\"/></a>"
      ]
    },
    {
      "cell_type": "markdown",
      "metadata": {
        "id": "LVT5njC5kc32",
        "colab_type": "text"
      },
      "source": [
        "<img src = \"https://i.imgur.com/AKXoLze.jpg\"  align = \"center\">"
      ]
    },
    {
      "cell_type": "markdown",
      "metadata": {
        "id": "LRqWoDsxdNwI",
        "colab_type": "text"
      },
      "source": [
        "Numpy eigenvalues and eigenvectors\n",
        "We calculate the eigenvalues and eigenvectors of the matrix \n",
        "\n",
        "<img src = \"http://www.physics.utah.edu/~detar/lessons/python/numpy_eigen/img1.png\" style=\"width: 350px;\"/>\n"
      ]
    },
    {
      "cell_type": "code",
      "metadata": {
        "id": "myyZGOf4dpNN",
        "colab_type": "code",
        "outputId": "4b1505fe-28d2-43d4-b6b9-7bdda84bb359",
        "colab": {
          "base_uri": "https://localhost:8080/",
          "height": 102
        }
      },
      "source": [
        "import numpy as np\n",
        "from numpy import linalg as LA\n",
        "A = np.array([[1,-2],[1,4]])\n",
        "w, v = LA.eig(A)\n",
        "print(w) #EVALUE\n",
        "print(v) #EVECTOR\n",
        "p=5**0.5\n",
        "q=1/p\n",
        "q\n",
        "\n",
        "\n",
        "import math\n",
        "v1=(-0.89442719)**2\n",
        "v2=(0.4472136**2)**2\n",
        "\n",
        "c=math.sqrt(v1+v2)\n",
        "print(c,\"mendekati 1 \") \n",
        "import numpy as np\n",
        "\n",
        "vMag = np.linalg.norm(w[1])\n",
        "print (vMag)\n",
        "\n",
        "# c=1/(sqrt(5))\n",
        "# c\n"
      ],
      "execution_count": 0,
      "outputs": [
        {
          "output_type": "stream",
          "text": [
            "[2. 3.]\n",
            "[[-0.89442719  0.70710678]\n",
            " [ 0.4472136  -0.70710678]]\n",
            "0.9165151388936683 mendekati 1 \n",
            "3.0\n"
          ],
          "name": "stdout"
        }
      ]
    },
    {
      "cell_type": "code",
      "metadata": {
        "id": "wRpkmFDXZH5y",
        "colab_type": "code",
        "colab": {}
      },
      "source": [
        ""
      ],
      "execution_count": 0,
      "outputs": []
    },
    {
      "cell_type": "markdown",
      "metadata": {
        "id": "V0Abnhktd8f0",
        "colab_type": "text"
      },
      "source": [
        "The numpy.linalg.eig function returns a tuple consisting of a vector and an array. The vector (here w) contains the eigenvalues. The array (here v) contains the corresponding eigenvectors, one eigenvector per column. The eigenvectors are normalized so their Euclidean norms are 1.\n",
        "\n",
        "The eigenvalue w[0] goes with the 0th column of v. The eigenvalue w[1] goes with column 1, etc. To extract the ith column vector, we use "
      ]
    },
    {
      "cell_type": "code",
      "metadata": {
        "id": "EO0aawUOeD0u",
        "colab_type": "code",
        "outputId": "ef4f1969-9317-4853-a050-331596a286ac",
        "colab": {
          "base_uri": "https://localhost:8080/",
          "height": 34
        }
      },
      "source": [
        "i = 1\n",
        "u = v[:,i]\n",
        "print(u)"
      ],
      "execution_count": 0,
      "outputs": [
        {
          "output_type": "stream",
          "text": [
            "[ 0.70710678 -0.70710678]\n"
          ],
          "name": "stdout"
        }
      ]
    },
    {
      "cell_type": "markdown",
      "metadata": {
        "id": "Z4WGxt7xej_E",
        "colab_type": "text"
      },
      "source": [
        "Just to be clear about what is happening here, let's check the eigenvector/eigenvalue condition for the second eigenvalue and eigenvector. \n",
        "\n",
        "<img src = \"http://www.physics.utah.edu/~detar/lessons/python/numpy_eigen/img2.png\" style=\"width: 350px;\"/>\n",
        "\n",
        "where $u$ is the eigenvector and $\\lambda$ is its eigenvalue. So we multiply the eigenvector v[:,1] by A and check that it is the same as multiplying the same eigenvector by its eigenvalue w[1]. "
      ]
    },
    {
      "cell_type": "code",
      "metadata": {
        "id": "UodZbQbwe-vB",
        "colab_type": "code",
        "outputId": "5e4300c6-3832-4108-b1b7-c8e7f35ea7b2",
        "colab": {
          "base_uri": "https://localhost:8080/",
          "height": 85
        }
      },
      "source": [
        "u = v[:,1]\n",
        "print(u)\n",
        "lam = w[1]\n",
        "print(lam)\n",
        "print(np.dot(A,u))\n",
        "print(lam*u)"
      ],
      "execution_count": 0,
      "outputs": [
        {
          "output_type": "stream",
          "text": [
            "[ 0.70710678 -0.70710678]\n",
            "3.0\n",
            "[ 2.12132034 -2.12132034]\n",
            "[ 2.12132034 -2.12132034]\n"
          ],
          "name": "stdout"
        }
      ]
    },
    {
      "cell_type": "markdown",
      "metadata": {
        "id": "pdZvDjP-fR0Z",
        "colab_type": "text"
      },
      "source": [
        "We see that the results are the same, as they should be\n",
        "\n",
        "The numpy linalg package does not sort eigenvalues and eigenvectors. Sometimes it is useful to put the eigenvalues in ascending order. But when we do, we might also want to rearrange the eigenvectors so they still go with the eigenvalues. We do this using an indirect sort, provided by the numpy argsort() function. An indirect sort generates a list of indices that wouuld put the values in order, but it doesn't actually do the sort. So, for example if we want to sort the numbers w = [4.2, 2.1, 5.7] in ascending order, taking terms with indices [1, 0, 2], that is [w[1], w[0], w[2]], puts them in order. The indirect sort gives us just the list of indices. Here is how we can use it: "
      ]
    },
    {
      "cell_type": "code",
      "metadata": {
        "id": "yicD95-7fc6T",
        "colab_type": "code",
        "outputId": "6c87b800-49c2-4874-ebdd-a4d7435196c6",
        "colab": {
          "base_uri": "https://localhost:8080/",
          "height": 119
        }
      },
      "source": [
        "w, v = LA.eig(A)\n",
        "print(w)\n",
        "print(v)\n",
        "idx = np.argsort(w)\n",
        "w = w[idx]\n",
        "v = v[:,idx]\n",
        "print(w)\n",
        "print(v)"
      ],
      "execution_count": 0,
      "outputs": [
        {
          "output_type": "stream",
          "text": [
            "[2. 3.]\n",
            "[[-0.89442719  0.70710678]\n",
            " [ 0.4472136  -0.70710678]]\n",
            "[2. 3.]\n",
            "[[-0.89442719  0.70710678]\n",
            " [ 0.4472136  -0.70710678]]\n"
          ],
          "name": "stdout"
        }
      ]
    },
    {
      "cell_type": "markdown",
      "metadata": {
        "id": "X9fhfgKXfmt6",
        "colab_type": "text"
      },
      "source": [
        "The indices go into the numpy array idx, and we use them to rearrange the eigenvalues and eigenvectors at the same time so we keep the correspondence between eigenvalues and their eigenvectors."
      ]
    }
  ]
}